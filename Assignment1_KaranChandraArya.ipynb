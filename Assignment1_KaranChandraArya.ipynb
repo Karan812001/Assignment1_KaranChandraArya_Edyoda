{
 "cells": [
  {
   "cell_type": "markdown",
   "id": "09454374",
   "metadata": {},
   "source": [
    "# Assignment 1"
   ]
  },
  {
   "cell_type": "markdown",
   "id": "c58feb1a",
   "metadata": {},
   "source": [
    "# Q1. Fibonacci Series"
   ]
  },
  {
   "cell_type": "code",
   "execution_count": 16,
   "id": "2fcef4b6",
   "metadata": {},
   "outputs": [
    {
     "name": "stdout",
     "output_type": "stream",
     "text": [
      "Enter Number of Terms in Fibonacci sequence: 10\n",
      "Fibonacci sequence:\n",
      "0\n",
      "1\n",
      "1\n",
      "2\n",
      "3\n",
      "5\n",
      "8\n",
      "13\n",
      "21\n",
      "34\n"
     ]
    }
   ],
   "source": [
    "# Program to display the Fibonacci sequence up to n-th term\n",
    "\n",
    "n= int(input(\"Enter Number of Terms in Fibonacci sequence: \"))\n",
    "\n",
    "# first two terms\n",
    "n1, n2 = 0, 1\n",
    "count = 0\n",
    "\n",
    "# check if the number of terms is valid\n",
    "if n <= 0:\n",
    "   print(\"Please enter a positive integer\")\n",
    "# if there is only one term, return n1\n",
    "elif n == 1:\n",
    "   print(\"Fibonacci sequence upto\",n,\":\")\n",
    "   print(n1)\n",
    "# generate fibonacci sequence\n",
    "else:\n",
    "   print(\"Fibonacci sequence:\")\n",
    "   while count < n:\n",
    "       print(n1)\n",
    "       nth = n1 + n2\n",
    "       n1 = n2\n",
    "       n2 = nth\n",
    "       count += 1"
   ]
  },
  {
   "cell_type": "markdown",
   "id": "51233faa",
   "metadata": {},
   "source": [
    "# Q2 Reverse String\n"
   ]
  },
  {
   "cell_type": "code",
   "execution_count": 9,
   "id": "0fceebc2",
   "metadata": {},
   "outputs": [
    {
     "name": "stdout",
     "output_type": "stream",
     "text": [
      "Enter Word:Edyoda\n",
      "Reverse Word:  adoydE\n"
     ]
    }
   ],
   "source": [
    "S=str(input(\"Enter Word:\"))\n",
    "R=S[::-1]\n",
    "print(\"Reverse Word: \",R)"
   ]
  },
  {
   "cell_type": "markdown",
   "id": "1873aba4",
   "metadata": {},
   "source": [
    "# Q3 Number of Even And Odd"
   ]
  },
  {
   "cell_type": "code",
   "execution_count": 15,
   "id": "37200c96",
   "metadata": {},
   "outputs": [
    {
     "name": "stdout",
     "output_type": "stream",
     "text": [
      "Number of Even Number: 4\n",
      "Number of Odd Number: 5\n"
     ]
    }
   ],
   "source": [
    "\n",
    "l=(1,2,3,4,5,6,7,8,9)\n",
    "\n",
    "even_count, odd_count = 0, 0\n",
    "\n",
    "for num in l:\n",
    "    if num % 2 == 0:\n",
    "        even_count += 1\n",
    "    else:\n",
    "        odd_count += 1\n",
    "\n",
    "print(\"Number of Even Number:\", even_count)\n",
    "print(\"Number of Odd Number:\", odd_count)\n"
   ]
  },
  {
   "cell_type": "code",
   "execution_count": null,
   "id": "a1ca8ef4",
   "metadata": {},
   "outputs": [],
   "source": []
  }
 ],
 "metadata": {
  "kernelspec": {
   "display_name": "Python 3 (ipykernel)",
   "language": "python",
   "name": "python3"
  },
  "language_info": {
   "codemirror_mode": {
    "name": "ipython",
    "version": 3
   },
   "file_extension": ".py",
   "mimetype": "text/x-python",
   "name": "python",
   "nbconvert_exporter": "python",
   "pygments_lexer": "ipython3",
   "version": "3.9.6"
  }
 },
 "nbformat": 4,
 "nbformat_minor": 5
}
